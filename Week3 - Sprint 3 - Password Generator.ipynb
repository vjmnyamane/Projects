{
 "cells": [
  {
   "cell_type": "code",
   "execution_count": null,
   "metadata": {},
   "outputs": [],
   "source": [
    "import random\n",
    "\n",
    "def password(length = 12): #creating a function with the length of password already set to 12 characters\n",
    "    \n",
    "    \n",
    "    \n",
    "    newPssWd = str()  # any type of password combination that will be stored here ,will automatically become a string\n",
    "    \n",
    "    \n",
    "    characters =  \"abcdefghijklmnopqrstuvwxyz01234567890ABCDEFGHIJKLMNOPQRSTUVWXYZ!@#$%^&*()?\" #character  assignment\n",
    "    \n",
    "    \n",
    "    for i in range(length):     #randomly chooses from the characters assigned to compile a new password\n",
    "        newPssWd += random.choice(characters) \n",
    "  \n",
    "\n",
    "    print (\"Your new security password is :\")\n",
    "    return newPssWd    #returns the generated password\n",
    "\n",
    "\n",
    "\n",
    "password() #calling a function"
   ]
  }
 ],
 "metadata": {
  "kernelspec": {
   "display_name": "Python 3",
   "language": "python",
   "name": "python3"
  },
  "language_info": {
   "codemirror_mode": {
    "name": "ipython",
    "version": 3
   },
   "file_extension": ".py",
   "mimetype": "text/x-python",
   "name": "python",
   "nbconvert_exporter": "python",
   "pygments_lexer": "ipython3",
   "version": "3.7.6"
  }
 },
 "nbformat": 4,
 "nbformat_minor": 4
}
