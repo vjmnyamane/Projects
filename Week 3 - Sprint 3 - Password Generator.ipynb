{
 "cells": [
  {
   "cell_type": "code",
   "execution_count": null,
   "metadata": {},
   "outputs": [],
   "source": [
    "import re #Importing a regular rxpression (is a sequence of characters that forms a search pattern.)\n",
    "import random\n",
    "\n",
    "\n",
    "\n",
    "chars = \"abcdefghijklmnopqrstuvwxyz01234567890ABCDEFGHIJKLMNOPQRSTUVWXYZ!@#$%^&*()?\" #character assignment\n",
    "\n",
    "print(\"Welcome to Password Generator Bot.\\n This system generates a password for a user and it allows a user to geneerate their own password \")\n",
    "\n",
    "Newpassword = input(\"Do you want the system to generate a new password for you?(Y/N):\").strip().upper() #prompts a user whether their want a new password\n",
    "        \n",
    "pass_length = 12 #Assigns password length to 12\n",
    "\n",
    "\n",
    "if Newpassword == \"Y\": #If Newpassword is Yes then\n",
    "    \n",
    "    numOfPasswords = int(input('How many passwords do you wish to choose from?\\n')) #it will ask the user how many password they want to generate\n",
    "    \n",
    "    for numOfPasswords in range(numOfPasswords):  \n",
    "        password = ''\n",
    "        for c in range(pass_length):\n",
    "            password += random.choice(chars) # Creates a unique random string without repeating characters in it. \n",
    "        print(password)\n",
    "    chosenPassword = input('Please key in your chosen password in this field: ')\n",
    "    print('Your password has been set to: ' + chosenPassword + '\\nPlease keep the chosen password safe ;)')\n",
    "    \n",
    "if Newpassword == 'N': #If Newpassword is No then\n",
    "    \n",
    "    def password_validate():\n",
    "        \n",
    "        while True: \n",
    "            \n",
    "            password = input(\"Enter your own password:\\n NB! : Your password must have atleast 1 Capital letter,a Number and must be 12 characters long.\\n\")\n",
    "            if len(password) < 12: #Using Len to check the length of a string \n",
    "                print(\"Error: Make sure your password is at least 12 letters.\\n\")\n",
    "                \n",
    "            elif re.search('[0-9]',password) is None: #Searches a regular expression pattern and return the first occurrence\n",
    "                print(\"Error: Your password should consist of atleast one number.\\n\")\n",
    "                \n",
    "            elif re.search('[A-Z]',password) is None: \n",
    "                print(\"Error: Your password should consist of atleast one capital letter.\\n\")\n",
    "                \n",
    "            else:\n",
    "                print(\"Your password has been set to : \\n\" + password)\n",
    "                print('Please keep this password safe;)')\n",
    "                break\n",
    "\n",
    "    password_validate()\n"
   ]
  }
 ],
 "metadata": {
  "kernelspec": {
   "display_name": "Python 3",
   "language": "python",
   "name": "python3"
  },
  "language_info": {
   "codemirror_mode": {
    "name": "ipython",
    "version": 3
   },
   "file_extension": ".py",
   "mimetype": "text/x-python",
   "name": "python",
   "nbconvert_exporter": "python",
   "pygments_lexer": "ipython3",
   "version": "3.7.6"
  }
 },
 "nbformat": 4,
 "nbformat_minor": 4
}
