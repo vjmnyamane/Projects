{
 "cells": [
  {
   "cell_type": "code",
   "execution_count": null,
   "metadata": {},
   "outputs": [],
   "source": [
    "print(\"Welcome to python calculator!!!\\n\")\n",
    "\n",
    "def user_choice():  # user input function\n",
    "    print (\"Choose the operator you would like to use.\\nYour options are:\\n\")\n",
    "    \n",
    "\n",
    "    print (\"1) Addition\\n\")\n",
    "    print (\"2) Subtraction\\n\")\n",
    "    print (\"3) Multiplication\\n\")\n",
    "    print (\"4) Division\\n\")\n",
    "    print (\"5) Quit / Exit Calculator.\\n\")\n",
    "    print\n",
    "\n",
    "    choice = int(input(\"Choose your option: \"))\n",
    "    try:\n",
    "        choice = int(choice)   # converts user input to integer\n",
    "    except ValueError:\n",
    "        choice = 0\n",
    "    return choice\n",
    "\n",
    "\n",
    "#calculation  function\n",
    "def main():  \n",
    "    \n",
    "    while True:\n",
    "        choice = user_choice()\n",
    "        if choice == 5:\n",
    "            return\n",
    "        if choice >= 6:\n",
    "            print (\"Not a valid input, please choose from the options given.\\n\")\n",
    "            continue\n",
    "        try:\n",
    "            num1 = int(input(\"Enter your first number  :  \"))\n",
    "            num2 = int(input(\"Enter your second number :  \"))\n",
    "        except ValueError:\n",
    "            print (\"Invalid character\") # if user types in anything that's not a number ,an invalid character error will appear.\n",
    "            continue\n",
    "            \n",
    "        if choice == 1:\n",
    "            print (num1, \"+\", num2, \"=\", num1 + num2)\n",
    "        elif choice == 2:\n",
    "            print (num1, \"-\", num2, \"=\", num1 - num2)\n",
    "        elif choice == 3:\n",
    "            print (num1, \"*\", num2, \"=\", num1 * num2)\n",
    "        elif choice == 4:\n",
    "            if num2 == 0:\n",
    "                print (\"Cannot divide by zero\")\n",
    "            else:\n",
    "                print (num1, \"/\", num2, \"=\", num1 / num2)\n",
    "\n",
    "if __name__ == '__main__':\n",
    "    try:\n",
    "        main()\n",
    "    except (EOFError, KeyboardInterrupt): #EOFError raised when the input() function hits an end-of-file condition without reading any data.\n",
    "        pass                              #KeyboardInterrupt raised when the user hits the interrupt key (normally Control-C or Delete)\n",
    "    \n",
    "    print (\"Thank you for using calculator.!\")"
   ]
  },
  {
   "cell_type": "code",
   "execution_count": null,
   "metadata": {},
   "outputs": [],
   "source": []
  }
 ],
 "metadata": {
  "kernelspec": {
   "display_name": "Python 3",
   "language": "python",
   "name": "python3"
  },
  "language_info": {
   "codemirror_mode": {
    "name": "ipython",
    "version": 3
   },
   "file_extension": ".py",
   "mimetype": "text/x-python",
   "name": "python",
   "nbconvert_exporter": "python",
   "pygments_lexer": "ipython3",
   "version": "3.7.6"
  }
 },
 "nbformat": 4,
 "nbformat_minor": 4
}
