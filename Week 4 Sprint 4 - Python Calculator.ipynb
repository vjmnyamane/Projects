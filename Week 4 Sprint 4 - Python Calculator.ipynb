{
 "cells": [
  {
   "cell_type": "code",
   "execution_count": null,
   "metadata": {},
   "outputs": [],
   "source": [
    "repeat = \"y\"\n",
    "while repeat.lower() == \"y\": # while loop\n",
    "    print(\"Select operation\\n1.Add\\n2.Subtract\\n3.Multiply\\n4.Divide\")\n",
    "\n",
    "    choice = input(\"Enter choice(1/2/3/4):\")\n",
    "\n",
    "    num1 = int(input(\"Enter first number: \"))\n",
    "    num2 = int(input(\"Enter second number: \"))\n",
    "\n",
    "    if choice == '1':  # Addition\n",
    "       print(num1,\"+\",num2,\"=\", (num1 + num2))\n",
    "\n",
    "    elif choice == '2': # Subtraction\n",
    "       print(num1,\"-\",num2,\"=\", (num1 - num2))\n",
    "\n",
    "    elif choice == '3':  # Multiplication\n",
    "       print(num1,\"*\",num2,\"=\", (num1 * num2))\n",
    "\n",
    "    elif choice == '4':  # Division\n",
    "       print(num1,\"/\",num2,\"=\", (num1 / num2))\n",
    "    else:\n",
    "       print(\"Invalid input\")\n",
    "    cont = input(\"Continue?y/n:\")  # prompts user to continue yes or no, if yes the program will loop again.\n",
    "    if repeat == \"n\":          # if no then exit\n",
    "        print (\"Thank you.\")\n",
    "        break"
   ]
  }
 ],
 "metadata": {
  "kernelspec": {
   "display_name": "Python 3",
   "language": "python",
   "name": "python3"
  },
  "language_info": {
   "codemirror_mode": {
    "name": "ipython",
    "version": 3
   },
   "file_extension": ".py",
   "mimetype": "text/x-python",
   "name": "python",
   "nbconvert_exporter": "python",
   "pygments_lexer": "ipython3",
   "version": "3.7.6"
  }
 },
 "nbformat": 4,
 "nbformat_minor": 4
}
