{
 "cells": [
  {
   "cell_type": "code",
   "execution_count": null,
   "metadata": {},
   "outputs": [],
   "source": [
    "import pandas as pd\n",
    "import numpy as np\n",
    "import matplotlib.pyplot as plt"
   ]
  },
  {
   "cell_type": "code",
   "execution_count": null,
   "metadata": {},
   "outputs": [],
   "source": [
    "data = pd.read_csv('DataVault data.csv')\n",
    "data.drop(columns= ['Unnamed: 0'])\n",
    "data.head()"
   ]
  },
  {
   "cell_type": "code",
   "execution_count": null,
   "metadata": {},
   "outputs": [],
   "source": [
    "df = pd.DataFrame(np.random.randn(4, 4),index=data.index)\n",
    "\n",
    "labels = ['Chips','Cooldrinks','Chocolate','Pies','Fruit','Cupcakes','Veggies']\n",
    "values = [3,3,3,3,4,3,3] \n",
    "\n",
    "plt.bar(labels,values)\n",
    "plt.show()\n",
    "\n",
    "plt.title(\"DataVault data\")\n",
    "\n",
    "plt.xlabel(\"Items\")\n",
    "plt.ylabel(\"Number of items\")\n",
    "\n",
    "#plt.xticks(['Chips','Cooldrinks','Chocolate','Pies','Fruit','Cupcakes','Veggies'])\n",
    "#plt.yticks([1,2,3,4,5,6,7])\n",
    "\n",
    "plt.figure(figsize = (6,4))\n",
    "\n"
   ]
  },
  {
   "cell_type": "code",
   "execution_count": null,
   "metadata": {},
   "outputs": [],
   "source": []
  },
  {
   "cell_type": "code",
   "execution_count": null,
   "metadata": {},
   "outputs": [],
   "source": []
  }
 ],
 "metadata": {
  "kernelspec": {
   "display_name": "Python 3",
   "language": "python",
   "name": "python3"
  },
  "language_info": {
   "codemirror_mode": {
    "name": "ipython",
    "version": 3
   },
   "file_extension": ".py",
   "mimetype": "text/x-python",
   "name": "python",
   "nbconvert_exporter": "python",
   "pygments_lexer": "ipython3",
   "version": "3.7.6"
  }
 },
 "nbformat": 4,
 "nbformat_minor": 4
}
