{
 "cells": [
  {
   "cell_type": "code",
   "execution_count": null,
   "metadata": {},
   "outputs": [],
   "source": [
    "import pandas as pd\n",
    "import mysql.connector\n",
    "import matplotlib.pyplot as plt"
   ]
  },
  {
   "cell_type": "code",
   "execution_count": null,
   "metadata": {},
   "outputs": [],
   "source": [
    "#connecting the notebook to database\n",
    "connection = mysql.connector.connect(host=\"127.0.0.1\",\n",
    "                                     port=\"3306\", \n",
    "                                     user=\"root\",\n",
    "                                     passwd=\"Kamo@12345\",\n",
    "                                    database = \"datavault\")\n",
    "#making a cursor\n",
    "\n",
    "cursor = connection.cursor()\n",
    "print(connection)"
   ]
  },
  {
   "cell_type": "code",
   "execution_count": null,
   "metadata": {},
   "outputs": [],
   "source": [
    "#gives back the list in the table  thats in the schema/database\n",
    "\n",
    "cursor.execute(\"SELECT * FROM datavault.`datavault-data`\")\n"
   ]
  },
  {
   "cell_type": "code",
   "execution_count": null,
   "metadata": {},
   "outputs": [],
   "source": [
    "result = cursor.fetchall() #fetches all the data inside of a database table"
   ]
  },
  {
   "cell_type": "code",
   "execution_count": null,
   "metadata": {},
   "outputs": [],
   "source": [
    "for row in result:\n",
    "    print(row) # print table database"
   ]
  },
  {
   "cell_type": "code",
   "execution_count": null,
   "metadata": {},
   "outputs": [],
   "source": [
    "graph = \"SELECT * FROM datavault.`datavault-data`\"\n",
    "\n",
    "\n",
    "#graph plotting\n",
    "\n",
    "figure = plt.figure()\n",
    "\n",
    "plt.title('DataVault items' )\n",
    "\n",
    "plt.xlabel('Items')\n",
    "\n",
    "plt.ylabel('Number of items in each column')\n",
    "\n",
    "labels =['Chips','Cooldrinks','Chocolates','Pies','Fruit','Cupcakes','Veggies']\n",
    "\n",
    "values =[0,1,2,3,4,5,6,7]\n",
    "\n",
    "plt.bar(labels,values) \n",
    "\n",
    "plt.figure(figsize = (6,4))\n",
    "\n",
    "\n",
    "\n",
    "plt.show()\n"
   ]
  }
 ],
 "metadata": {
  "kernelspec": {
   "display_name": "Python 3",
   "language": "python",
   "name": "python3"
  },
  "language_info": {
   "codemirror_mode": {
    "name": "ipython",
    "version": 3
   },
   "file_extension": ".py",
   "mimetype": "text/x-python",
   "name": "python",
   "nbconvert_exporter": "python",
   "pygments_lexer": "ipython3",
   "version": "3.7.6"
  }
 },
 "nbformat": 4,
 "nbformat_minor": 4
}
