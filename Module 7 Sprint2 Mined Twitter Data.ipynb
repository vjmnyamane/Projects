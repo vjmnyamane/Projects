{
 "cells": [
  {
   "cell_type": "code",
   "execution_count": null,
   "metadata": {},
   "outputs": [],
   "source": [
    "import tweepy\n",
    "import json\n",
    "import csv\n",
    "import pandas as pd\n",
    "from pandas import read_csv\n",
    "import matplotlib.pyplot as plt\n",
    "\n",
    "\n",
    "\n",
    "consumer_key = \"232aHLtXLhvmrGXmdI6odSo1d\"\n",
    "consumer_secret = \"41SvQqQv1uAfShNPkAau4T1g6tjRkEJZIe7lU7Pr7NrlV6b81B\"\n",
    "access_token = \"1291363701501628416-KKyyCr3r69oWzFd1YOg3Z6beQ88vjY\"\n",
    "access_token_secret = \"3aHBpZn9akDn2ENFqfnSFpnTbbInYxOk05izQAqypZeNK\"\n",
    "\n",
    "auth = tweepy.OAuthHandler(consumer_key, consumer_secret)\n",
    "# Setting your access token and secret\n",
    "auth.set_access_token(access_token, access_token_secret)\n",
    "# Creating the API object while passing in auth information\n",
    "api = tweepy.API(auth) \n"
   ]
  },
  {
   "cell_type": "code",
   "execution_count": null,
   "metadata": {},
   "outputs": [],
   "source": [
    "# Creating the API object while passing in auth information\n",
    "api = tweepy.API(auth)\n",
    "\n",
    "# The Twitter user who we want to get tweets from\n",
    "name = \"SamsungMobileSA\"\n",
    "\n",
    "# Number of tweets to pull\n",
    "tweetCount = 100\n",
    "\n",
    "# Calling the user_timeline function with our parameters\n",
    "results = api.user_timeline(id=name, count=tweetCount)\n",
    "\n",
    "csvfile = open('my_scraped_tweets.csv','w')\n",
    "csvWriter = csv.writer(csvfile)\n",
    "\n",
    "# foreach through all tweets pulled\n",
    "for tweet in results:\n",
    " # Write a row to the CSV file. I use encode UTF-8\n",
    "    csvWriter.writerow([tweet.created_at, tweet.text.encode('utf-8')])\n",
    "    print (tweet.created_at, tweet.text)\n",
    "csvFile.close()"
   ]
  },
  {
   "cell_type": "code",
   "execution_count": null,
   "metadata": {},
   "outputs": [],
   "source": [
    "#writing the data from csv file to json file\n",
    "\n",
    "data = pd.read_csv(r'C:\\Users\\DUNCAN\\my_scraped_tweets.csv') \n",
    "df.to_json(r'C:\\Users\\DUNCAN\\minedData.json')\n",
    "df.head()"
   ]
  },
  {
   "cell_type": "code",
   "execution_count": null,
   "metadata": {},
   "outputs": [],
   "source": [
    "#Loading a dataframe to plot with the data\n",
    "\n",
    "data = json.load(data)\n",
    "\n",
    "dates= [i['dates'] for p in data[\"data\"]]\n",
    "tweets = [i['Tweet'] for p in data[\"data\"]]\n",
    " \n",
    "df = pd.DataFrame({'dates':dates , 'values':values})\n",
    "df['dates'] = [pd.to_datetime(p) for p in df['dates']]\n",
    "\n"
   ]
  },
  {
   "cell_type": "code",
   "execution_count": null,
   "metadata": {},
   "outputs": [],
   "source": [
    "df.plot.scatter(x='Date & Time',y = ' Tweets')"
   ]
  }
 ],
 "metadata": {
  "kernelspec": {
   "display_name": "Python 3",
   "language": "python",
   "name": "python3"
  },
  "language_info": {
   "codemirror_mode": {
    "name": "ipython",
    "version": 3
   },
   "file_extension": ".py",
   "mimetype": "text/x-python",
   "name": "python",
   "nbconvert_exporter": "python",
   "pygments_lexer": "ipython3",
   "version": "3.7.6"
  }
 },
 "nbformat": 4,
 "nbformat_minor": 4
}
