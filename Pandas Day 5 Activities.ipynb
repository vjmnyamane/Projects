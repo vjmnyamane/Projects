{
 "cells": [
  {
   "cell_type": "code",
   "execution_count": null,
   "metadata": {},
   "outputs": [],
   "source": [
    "import pandas as pd\n",
    "import numpy as np"
   ]
  },
  {
   "cell_type": "code",
   "execution_count": null,
   "metadata": {},
   "outputs": [],
   "source": [
    "#  Activity 1 part 1\n",
    "# Write a Python program to add, subtract, multiple and divide two Pandas Series.  \n",
    "\n",
    "ds1 = pd.Series([2, 4, 6, 8, 10])\n",
    "ds2 = pd.Series([1, 3, 5, 7, 9])\n",
    "ds = ds1 + ds2\n",
    "print(\"Add two Series: \",ds)\n",
    "\n",
    "print(\"Subtract two Series:\")\n",
    "ds = ds1 - ds2\n",
    "print(ds)\n",
    "\n",
    "print(\"Multiply two Series:\")\n",
    "ds = ds1 * ds2\n",
    "print(ds)\n",
    "\n",
    "print(\"Divide Series1 by Series2:\")\n",
    "ds = ds1 / ds2\n",
    "print(ds)\n"
   ]
  },
  {
   "cell_type": "code",
   "execution_count": null,
   "metadata": {},
   "outputs": [],
   "source": [
    "# Activity 1 part 2 (activity 2)\n",
    "# Write a Python program to get the largest integer smaller or equal to the division of the inputs.  \n",
    "\n",
    "s = [1., 2., 3., 4.]\n",
    "print(\"Original array: \",s)\n",
    "\n",
    "print(\"Largest integer smaller or equal to the division of the inputs:\")\n",
    "print(np.floor_divide(s, 1.5))  #Standard division ,Round a number to the nearest integer toward minus infinity."
   ]
  },
  {
   "cell_type": "code",
   "execution_count": null,
   "metadata": {},
   "outputs": [],
   "source": [
    "# Activity 1 part 3 (activity 3)\n",
    "# Write a Python program to convert a dictionary to a Pandas series.  \n",
    "\n",
    "d = {'a': 100, 'b': 200, 'c':300, 'd':400, 'e':800}\n",
    "print(\"Original dictionary:\",d)\n",
    "\n",
    "new_series = pd.Series(d)\n",
    "print(\"Converted series:\",new_series)\n"
   ]
  },
  {
   "cell_type": "code",
   "execution_count": null,
   "metadata": {},
   "outputs": [],
   "source": [
    "# Activity 1 part 1\n",
    "\n",
    "#Write a Pandas program to create and display a DataFrame from a specified dictionary data which has the index labels.\n",
    "\n",
    "exam_data  = {'attempts': [1, 3, 2, 3, 2, 3, 1, 1, 2, 1]\n",
    "        ,'name': ['Anastasia', 'Dima', 'Katherine', 'James', 'Emily', 'Michael', 'Matthew', 'Laura', 'Kevin', 'Jonas'],\n",
    "        'qualify': ['yes', 'no', 'yes', 'no', 'no', 'yes', 'yes', 'no', 'no', 'yes'],\n",
    "        'score': [12.5, 9, 16.5, np.nan, 9, 20, 14.5, np.nan, 8, 19]}\n",
    "\n",
    "labels = ['a', 'b', 'c', 'd', 'e', 'f', 'g', 'h', 'i', 'j']\n",
    "\n",
    "\n",
    "\n",
    "\n",
    "df = pd.DataFrame(exam_data , index=labels)\n",
    "print(df)"
   ]
  },
  {
   "cell_type": "code",
   "execution_count": null,
   "metadata": {},
   "outputs": [],
   "source": [
    "#Activity 1 part 2\n",
    "#Write a Pandas program to write a DataFrame to CSV file using tab separator.\n",
    "\n",
    "d = {'col1': [1, 4, 3, 4, 5], 'col2': [4, 5, 6, 7, 8], 'col3': [7, 8, 9, 0, 1]}\n",
    "df = pd.DataFrame(data=d)\n",
    "print(\"Original DataFrame : \",df)\n",
    "\n",
    "df.to_csv('new_file.csv', sep='\\t', index=False)  # *sep* is the Field delimiter for the output file.\n",
    "new_df = pd.read_csv('new_file.csv')\n",
    "print(new_df)"
   ]
  },
  {
   "cell_type": "code",
   "execution_count": null,
   "metadata": {},
   "outputs": [],
   "source": [
    "# Activity 2 part 1(activity 1)\n",
    "# Write a Pandas program to convert Series of lists to one Series. \n",
    "\n",
    "f = pd.Series([['Red', 'Green', 'White'],['Red', 'Black'],['Yellow']])\n",
    "\n",
    "print(\"Original Series of list: \",f)\n",
    "\n",
    "f = f.apply(pd.Series).stack().reset_index(drop=True) \n",
    "# *stack* Return a reshaped DataFrame or Series having a multi-level index with one or more new inner-most levels compared to the current DataFrame. \n",
    "# *reset_index* drops the current index of the DataFrame and replaces it with an index of increasing integers\n",
    "\n",
    "print(\"One Series: \",f)"
   ]
  },
  {
   "cell_type": "code",
   "execution_count": null,
   "metadata": {},
   "outputs": [],
   "source": [
    "# Activity 2 part 2(activity 2)\n",
    "# Write a Pandas program to create the mean and standard deviation of the data of a given Series.\n",
    "\n",
    "d = pd.Series(data = [1,2,3,4,5,6,7,8,9,5,3])\n",
    "print(\"Original Data Series: \",d)\n",
    "\n",
    "print(\"Mean of the Data Series: \",d.mean())\n",
    "\n",
    "print(\"Standard deviation of the Data Series: \",d.std())"
   ]
  },
  {
   "cell_type": "code",
   "execution_count": null,
   "metadata": {},
   "outputs": [],
   "source": [
    "# Activity 2, Activity 3,part 1\n",
    "# Below is data that was manually captured from an assessment completed by Capaciti’s machine learning interns.\n",
    "# Capaciti now requires you to migrate this data into a Pandas dataframe to enable certain functions to be performed\n",
    "\n",
    "exam_data = {'Row' : [0,1,2,3,4,5,6,7,8,9] ,'Attempts': [1, 3, 2, 3, 2, 3, 1, 1, 2, 1]\n",
    "        ,'Name': ['Anastasia', 'Dima', 'Katherine', 'James', 'Emily', 'Michael', 'Matthew', 'Laura', 'Kevin', 'Jonas'],\n",
    "        'Qualify': ['yes', 'no', 'yes', 'no', 'no', 'yes', 'yes', 'no', 'no', 'yes'],\n",
    "        'Score': [12.5, 9, 16.5, np.nan, 9, 20, 14.5, np.nan, 8, 19]}\n",
    "\n",
    "df = pd.DataFrame(data = exam_data)\n",
    "\n",
    "average_score = df.mean(axis = 1, skipna = True)  # Return the mean of the values for the requested axis.\n",
    "print(\"The avarage score is : \",average_score)\n",
    "\n",
    "print(\"Number of NaN values in one or more columns:\")\n",
    "print(df.isnull().values.sum())\n",
    "\n",
    "df['Score'] = df['Score'].fillna(0)\n",
    "print (df.to_string(index=False))  # converts the table to a string to drop the index column"
   ]
  },
  {
   "cell_type": "code",
   "execution_count": null,
   "metadata": {},
   "outputs": [],
   "source": [
    "# Activity 2 part 3 (activity 4)\n",
    "# Column name changing.\n",
    "\n",
    "\n",
    "interns= {'col1': ['John','Peter','Tinker']\n",
    "        ,'col2': ['Doe', 'Pan', 'Bell'],\n",
    "        'col3': [23, 29, 21]}\n",
    "\n",
    "df = pd.DataFrame(data = interns)\n",
    "print(\"The original DataFrame: \",df)\n",
    "\n",
    "\n",
    "df2 = pd.DataFrame(data = interns, columns = ['Name','Surname','Age'])\n",
    "print(\"The updated DataFrame : \",df2)"
   ]
  },
  {
   "cell_type": "code",
   "execution_count": null,
   "metadata": {},
   "outputs": [],
   "source": []
  }
 ],
 "metadata": {
  "kernelspec": {
   "display_name": "Python 3",
   "language": "python",
   "name": "python3"
  },
  "language_info": {
   "codemirror_mode": {
    "name": "ipython",
    "version": 3
   },
   "file_extension": ".py",
   "mimetype": "text/x-python",
   "name": "python",
   "nbconvert_exporter": "python",
   "pygments_lexer": "ipython3",
   "version": "3.7.6"
  }
 },
 "nbformat": 4,
 "nbformat_minor": 4
}
