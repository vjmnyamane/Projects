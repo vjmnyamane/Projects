{
 "cells": [
  {
   "cell_type": "code",
   "execution_count": null,
   "metadata": {},
   "outputs": [],
   "source": [
    "import random\n",
    "import time #imports time in seconds\n",
    "minimum = 1 #Global statement ( keyword allows you to modify the variable outside of the current scope.)\n",
    "maximum = 6 #Global statement\n",
    "\n",
    "print('Hello Player!!! Welcome to the Rolling Dice Game \\n')\n",
    "\n",
    "print('This is a rolling dice simulator that will allow the dice to roll on your prompt. Enjoy the game. \\n')\n",
    "\n",
    "roll = input('Do you want to roll the die (Yes/No)? ') #prompting a user to roll a dice\n",
    "\n",
    "def wanna_play(roll): #assigning a function\n",
    "    if roll.lower() =='yes': #If the prompt is 'yes' then\n",
    "\n",
    "            rolling_dice = True #assign a new variable that is equals to true\n",
    "            return rolling_dice\n",
    "        \n",
    "    if roll.lower() =='no':  # if the prompt is 'no' then\n",
    "                print (\"Thank you for playing.\")\n",
    "                rolling_dice = False #assign a new variable that is equals to false and prints a message\n",
    "                return rolling_dice\n",
    "                \n",
    "\n",
    "  # testing inside of a while loop  \n",
    "while wanna_play(roll):\n",
    "    \n",
    "        #     if rolling_dice == True: #testing if rolling_dice is true. If true then the following code will be executed...\n",
    "        \n",
    "        print(\"Spinning the dice.... \")\n",
    "        \n",
    "        time.sleep (random.randint (1,4))   #wait between 1 to 4 seconds randomly\n",
    "        \n",
    "        result = random.randint(minimum, maximum)\n",
    "        \n",
    "        print(result)  #Returns the random number that has been spun by the code.\n",
    "        rolling_dice = False\n",
    "        \n",
    "        \n",
    "        roll =input(\"Do you wanna roll again Y/N?\") #Prompt a user to try again. \n",
    "        wanna_play(roll) #calling a function to test the answer"
   ]
  }
 ],
 "metadata": {
  "kernelspec": {
   "display_name": "Python 3",
   "language": "python",
   "name": "python3"
  },
  "language_info": {
   "codemirror_mode": {
    "name": "ipython",
    "version": 3
   },
   "file_extension": ".py",
   "mimetype": "text/x-python",
   "name": "python",
   "nbconvert_exporter": "python",
   "pygments_lexer": "ipython3",
   "version": "3.7.6"
  }
 },
 "nbformat": 4,
 "nbformat_minor": 4
}
