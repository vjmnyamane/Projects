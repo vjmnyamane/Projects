{
 "cells": [
  {
   "cell_type": "code",
   "execution_count": 1,
   "metadata": {},
   "outputs": [],
   "source": [
    "import pandas as pd\n",
    "import mysql.connector\n",
    "import matplotlib.pyplot as plt"
   ]
  },
  {
   "cell_type": "code",
   "execution_count": 2,
   "metadata": {},
   "outputs": [
    {
     "name": "stdout",
     "output_type": "stream",
     "text": [
      "<mysql.connector.connection_cext.CMySQLConnection object at 0x000001E36C484DC8>\n"
     ]
    }
   ],
   "source": [
    "#connecting the notebook to database\n",
    "connection = mysql.connector.connect(host=\"127.0.0.1\",\n",
    "                                     port=\"3306\", \n",
    "                                     user=\"root\",\n",
    "                                     passwd=\"Kamo@12345\",\n",
    "                                    database = \"who_covid_data\")\n",
    "#making a cursor\n",
    "\n",
    "cursor = connection.cursor()\n",
    "print(connection)"
   ]
  },
  {
   "cell_type": "code",
   "execution_count": null,
   "metadata": {},
   "outputs": [],
   "source": [
    "#creates the database to hold the data \n",
    "\n",
    "cursor.execute(\"CREATE DATABASE WHO_covid_Data\")\n"
   ]
  },
  {
   "cell_type": "code",
   "execution_count": null,
   "metadata": {},
   "outputs": [],
   "source": [
    "#creation of the table to hold the data and it's sub tables from the original data\n",
    "cursor.execute(\"CREATE TABLE covid19_results (id INT AUTO_INCREMENT PRIMARY KEY,OBJECTID int(20),ISO_CODE varchar(800),COUNTRY_NAME varchar(800),Date_epicrv varchar(800),NewCase int(20),TotalCase int(20),NewDeath int(20),TotalDeath int(20))\")\n",
    "\n",
    "cursor.execute(\"CREATE TABLE Afghanistan (id INT AUTO_INCREMENT PRIMARY KEY,OBJECTID int(20),ISO_CODE varchar(800),COUNTRY_NAME varchar(800),Date_epicrv varchar(800),NewCase int(20),TotalCase int(20),NewDeath int(20),TotalDeath int(20)) SELECT * FROM covid19_results WHERE COUNTRY_NAME = 'Afghanistan' \")\n",
    "\n",
    "cursor.execute(\"CREATE TABLE Brazil (id INT AUTO_INCREMENT PRIMARY KEY,OBJECTID int(20),ISO_CODE varchar(800),COUNTRY_NAME varchar(800),Date_epicrv varchar(800),NewCase int(20),TotalCase int(20),NewDeath int(20),TotalDeath int(20)) SELECT * FROM covid19_results WHERE COUNTRY_NAME = 'Brazil' \")\n",
    "\n",
    "cursor.execute(\"CREATE TABLE Canada (id INT AUTO_INCREMENT PRIMARY KEY,OBJECTID int(20),ISO_CODE varchar(800),COUNTRY_NAME varchar(800),Date_epicrv varchar(800),NewCase int(20),TotalCase int(20),NewDeath int(20),TotalDeath int(20)) SELECT * FROM covid19_results WHERE COUNTRY_NAME = 'Canada' \")"
   ]
  },
  {
   "cell_type": "code",
   "execution_count": null,
   "metadata": {},
   "outputs": [],
   "source": [
    "cursor.execute(\"SHOW TABLES\")\n",
    "\n",
    "for x in cursor:\n",
    "    print(x)"
   ]
  },
  {
   "cell_type": "code",
   "execution_count": null,
   "metadata": {},
   "outputs": [],
   "source": [
    "#Writing the first table into a csv file\n",
    "cursor.execute(\"SELECT * FROM covid19_results WHERE COUNTRY_NAME ='Afghanistan' \")\n",
    "allrows=cursor.fetchall() \n",
    "\n",
    "connection.close() \n",
    "\n",
    "dfA=pd.DataFrame(list(allrows),columns=['id','OBJECTID','ISO_CODE','COUNTRY_NAME','Date_epicrv','NewCase','TotalCase','NewDeath','TotalDeath'])\n",
    "df.tocsv(\"Afghanistan_Covid19_Data.csv\")"
   ]
  },
  {
   "cell_type": "code",
   "execution_count": null,
   "metadata": {},
   "outputs": [],
   "source": [
    "#Writing the second table into a csv file\n",
    "cursor.execute(\"SELECT * FROM covid19_results WHERE COUNTRY_NAME ='Brazil' \")\n",
    "allrows=cursor.fetchall() \n",
    "\n",
    "connection.close() \n",
    "\n",
    "dfA=pd.DataFrame(list(allrows),columns=['id','OBJECTID','ISO_CODE','COUNTRY_NAME','Date_epicrv','NewCase','TotalCase','NewDeath','TotalDeath'])\n",
    "df.tocsv(\"Brazil_Covid19_Data.csv\")"
   ]
  },
  {
   "cell_type": "code",
   "execution_count": null,
   "metadata": {},
   "outputs": [],
   "source": [
    "#Writing the third table into a csv file\n",
    "cursor.execute(\"SELECT * FROM covid19_results WHERE COUNTRY_NAME ='Canada' \")\n",
    "allrows=cursor.fetchall() \n",
    "\n",
    "connection.close() \n",
    "\n",
    "dfA=pd.DataFrame(list(allrows),columns=['id','OBJECTID','ISO_CODE','COUNTRY_NAME','Date_epicrv','NewCase','TotalCase','NewDeath','TotalDeath'])\n",
    "df.tocsv(\"Canada_Covid19_Data.csv\")"
   ]
  },
  {
   "cell_type": "code",
   "execution_count": 3,
   "metadata": {},
   "outputs": [
    {
     "data": {
      "text/html": [
       "<div>\n",
       "<style scoped>\n",
       "    .dataframe tbody tr th:only-of-type {\n",
       "        vertical-align: middle;\n",
       "    }\n",
       "\n",
       "    .dataframe tbody tr th {\n",
       "        vertical-align: top;\n",
       "    }\n",
       "\n",
       "    .dataframe thead th {\n",
       "        text-align: right;\n",
       "    }\n",
       "</style>\n",
       "<table border=\"1\" class=\"dataframe\">\n",
       "  <thead>\n",
       "    <tr style=\"text-align: right;\">\n",
       "      <th></th>\n",
       "      <th>OBJECTID</th>\n",
       "      <th>ISO_CODE</th>\n",
       "      <th>COUNTRY_NAME</th>\n",
       "      <th>Date_epicrv</th>\n",
       "      <th>NewCase</th>\n",
       "      <th>TotalCase</th>\n",
       "      <th>NewDeath</th>\n",
       "      <th>TotalDeath</th>\n",
       "    </tr>\n",
       "  </thead>\n",
       "  <tbody>\n",
       "    <tr>\n",
       "      <th>0</th>\n",
       "      <td>1</td>\n",
       "      <td>AFG</td>\n",
       "      <td>Afghanistan</td>\n",
       "      <td>2020-02-24T00:00:00.000Z</td>\n",
       "      <td>1</td>\n",
       "      <td>1</td>\n",
       "      <td>0</td>\n",
       "      <td>0</td>\n",
       "    </tr>\n",
       "    <tr>\n",
       "      <th>1</th>\n",
       "      <td>2</td>\n",
       "      <td>AFG</td>\n",
       "      <td>Afghanistan</td>\n",
       "      <td>2020-02-25T00:00:00.000Z</td>\n",
       "      <td>0</td>\n",
       "      <td>1</td>\n",
       "      <td>0</td>\n",
       "      <td>0</td>\n",
       "    </tr>\n",
       "    <tr>\n",
       "      <th>2</th>\n",
       "      <td>3</td>\n",
       "      <td>AFG</td>\n",
       "      <td>Afghanistan</td>\n",
       "      <td>2020-02-26T00:00:00.000Z</td>\n",
       "      <td>0</td>\n",
       "      <td>1</td>\n",
       "      <td>0</td>\n",
       "      <td>0</td>\n",
       "    </tr>\n",
       "    <tr>\n",
       "      <th>3</th>\n",
       "      <td>4</td>\n",
       "      <td>AFG</td>\n",
       "      <td>Afghanistan</td>\n",
       "      <td>2020-02-27T00:00:00.000Z</td>\n",
       "      <td>0</td>\n",
       "      <td>1</td>\n",
       "      <td>0</td>\n",
       "      <td>0</td>\n",
       "    </tr>\n",
       "    <tr>\n",
       "      <th>4</th>\n",
       "      <td>5</td>\n",
       "      <td>AFG</td>\n",
       "      <td>Afghanistan</td>\n",
       "      <td>2020-02-28T00:00:00.000Z</td>\n",
       "      <td>0</td>\n",
       "      <td>1</td>\n",
       "      <td>0</td>\n",
       "      <td>0</td>\n",
       "    </tr>\n",
       "    <tr>\n",
       "      <th>...</th>\n",
       "      <td>...</td>\n",
       "      <td>...</td>\n",
       "      <td>...</td>\n",
       "      <td>...</td>\n",
       "      <td>...</td>\n",
       "      <td>...</td>\n",
       "      <td>...</td>\n",
       "      <td>...</td>\n",
       "    </tr>\n",
       "    <tr>\n",
       "      <th>995</th>\n",
       "      <td>996</td>\n",
       "      <td>BLZ</td>\n",
       "      <td>Belize</td>\n",
       "      <td>2020-03-30T00:00:00.000Z</td>\n",
       "      <td>0</td>\n",
       "      <td>2</td>\n",
       "      <td>0</td>\n",
       "      <td>0</td>\n",
       "    </tr>\n",
       "    <tr>\n",
       "      <th>996</th>\n",
       "      <td>997</td>\n",
       "      <td>BLZ</td>\n",
       "      <td>Belize</td>\n",
       "      <td>2020-03-31T00:00:00.000Z</td>\n",
       "      <td>1</td>\n",
       "      <td>3</td>\n",
       "      <td>0</td>\n",
       "      <td>0</td>\n",
       "    </tr>\n",
       "    <tr>\n",
       "      <th>997</th>\n",
       "      <td>998</td>\n",
       "      <td>BLZ</td>\n",
       "      <td>Belize</td>\n",
       "      <td>2020-04-01T00:00:00.000Z</td>\n",
       "      <td>0</td>\n",
       "      <td>3</td>\n",
       "      <td>0</td>\n",
       "      <td>0</td>\n",
       "    </tr>\n",
       "    <tr>\n",
       "      <th>998</th>\n",
       "      <td>999</td>\n",
       "      <td>BLZ</td>\n",
       "      <td>Belize</td>\n",
       "      <td>2020-04-02T00:00:00.000Z</td>\n",
       "      <td>0</td>\n",
       "      <td>3</td>\n",
       "      <td>0</td>\n",
       "      <td>0</td>\n",
       "    </tr>\n",
       "    <tr>\n",
       "      <th>999</th>\n",
       "      <td>1000</td>\n",
       "      <td>BLZ</td>\n",
       "      <td>Belize</td>\n",
       "      <td>2020-04-03T00:00:00.000Z</td>\n",
       "      <td>0</td>\n",
       "      <td>3</td>\n",
       "      <td>0</td>\n",
       "      <td>0</td>\n",
       "    </tr>\n",
       "  </tbody>\n",
       "</table>\n",
       "<p>1000 rows × 8 columns</p>\n",
       "</div>"
      ],
      "text/plain": [
       "     OBJECTID ISO_CODE COUNTRY_NAME               Date_epicrv  NewCase  \\\n",
       "0           1      AFG  Afghanistan  2020-02-24T00:00:00.000Z        1   \n",
       "1           2      AFG  Afghanistan  2020-02-25T00:00:00.000Z        0   \n",
       "2           3      AFG  Afghanistan  2020-02-26T00:00:00.000Z        0   \n",
       "3           4      AFG  Afghanistan  2020-02-27T00:00:00.000Z        0   \n",
       "4           5      AFG  Afghanistan  2020-02-28T00:00:00.000Z        0   \n",
       "..        ...      ...          ...                       ...      ...   \n",
       "995       996      BLZ       Belize  2020-03-30T00:00:00.000Z        0   \n",
       "996       997      BLZ       Belize  2020-03-31T00:00:00.000Z        1   \n",
       "997       998      BLZ       Belize  2020-04-01T00:00:00.000Z        0   \n",
       "998       999      BLZ       Belize  2020-04-02T00:00:00.000Z        0   \n",
       "999      1000      BLZ       Belize  2020-04-03T00:00:00.000Z        0   \n",
       "\n",
       "     TotalCase  NewDeath  TotalDeath  \n",
       "0            1         0           0  \n",
       "1            1         0           0  \n",
       "2            1         0           0  \n",
       "3            1         0           0  \n",
       "4            1         0           0  \n",
       "..         ...       ...         ...  \n",
       "995          2         0           0  \n",
       "996          3         0           0  \n",
       "997          3         0           0  \n",
       "998          3         0           0  \n",
       "999          3         0           0  \n",
       "\n",
       "[1000 rows x 8 columns]"
      ]
     },
     "execution_count": 3,
     "metadata": {},
     "output_type": "execute_result"
    }
   ],
   "source": [
    "#conversion of data to a data frame\n",
    "df = pd.read_csv('Data_ WHO Coronavirus Covid-19 Cases and Deaths - WHO-COVID-19-global-data.csv', delimiter = ',', nrows = 1000)\n",
    "                   \n",
    "df"
   ]
  },
  {
   "cell_type": "code",
   "execution_count": 4,
   "metadata": {},
   "outputs": [
    {
     "data": {
      "text/plain": [
       "Text(0, 0.5, 'Country')"
      ]
     },
     "execution_count": 4,
     "metadata": {},
     "output_type": "execute_result"
    },
    {
     "data": {
      "image/png": "[encoded data removed]",
      "text/plain": [
       "<Figure size 1080x576 with 1 Axes>"
      ]
     },
     "metadata": {
      "needs_background": "light"
     },
     "output_type": "display_data"
    }
   ],
   "source": [
    "#plotting the overall cases for the each country.\n",
    "fig, graph = plt.subplots(figsize=(15, 8))\n",
    "\n",
    "graph.barh(df['COUNTRY_NAME'], df['TotalCase'])\n",
    "\n",
    "plt.xlabel('Number of Confirmend Cases')\n",
    "plt.ylabel('Country')\n",
    "\n",
    "\n"
   ]
  },
  {
   "cell_type": "code",
   "execution_count": null,
   "metadata": {},
   "outputs": [],
   "source": [
    "#Plotting the data for the country Afghanistan and it's toal deaths over time.\n",
    "df = pd.read_csv('Afghanistan_Covid19_Data.csv', delimiter = ',', nrows = 1000)\n",
    "\n",
    "\n",
    "fig, graph1 = plt.subplots(figsize=(15,8))\n",
    "graph1.scatter(df['Date_epicrv'], df['TotalDeath'])\n",
    "graph1.set_title('Deaths according to date in Afghanistan')\n",
    "\n",
    "plt.xticks(df['Date_epicrv'][::12])\n",
    "plt.xlabel(\"Date and Time\")\n",
    "plt.ylabel(\"Total Death\")"
   ]
  },
  {
   "cell_type": "code",
   "execution_count": null,
   "metadata": {},
   "outputs": [],
   "source": []
  },
  {
   "cell_type": "code",
   "execution_count": null,
   "metadata": {},
   "outputs": [],
   "source": []
  }
 ],
 "metadata": {
  "kernelspec": {
   "display_name": "Python 3",
   "language": "python",
   "name": "python3"
  },
  "language_info": {
   "codemirror_mode": {
    "name": "ipython",
    "version": 3
   },
   "file_extension": ".py",
   "mimetype": "text/x-python",
   "name": "python",
   "nbconvert_exporter": "python",
   "pygments_lexer": "ipython3",
   "version": "3.7.6"
  }
 },
 "nbformat": 4,
 "nbformat_minor": 4
}
