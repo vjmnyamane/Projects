{
 "cells": [
  {
   "cell_type": "code",
   "execution_count": null,
   "metadata": {},
   "outputs": [],
   "source": [
    "import pandas as pd\n",
    "import mysql.connector\n",
    "import matplotlib.pyplot as plt"
   ]
  },
  {
   "cell_type": "code",
   "execution_count": null,
   "metadata": {},
   "outputs": [],
   "source": [
    "#connecting the notebook to database\n",
    "connection = mysql.connector.connect(host=\"127.0.0.1\",\n",
    "                                     port=\"3306\", \n",
    "                                     user=\"root\",\n",
    "                                     passwd=\"Kamo@12345\",\n",
    "                                    database = \"who_covid_data\")\n",
    "#making a cursor\n",
    "\n",
    "cursor = connection.cursor()\n",
    "print(connection)"
   ]
  },
  {
   "cell_type": "code",
   "execution_count": null,
   "metadata": {},
   "outputs": [],
   "source": [
    "#creates the database to hold the data \n",
    "\n",
    "cursor.execute(\"CREATE DATABASE WHO_covid_Data\")\n"
   ]
  },
  {
   "cell_type": "code",
   "execution_count": null,
   "metadata": {},
   "outputs": [],
   "source": [
    "#creation of the table to hold the data and it's sub tables from the original data\n",
    "cursor.execute(\"CREATE TABLE covid19_results (id INT AUTO_INCREMENT PRIMARY KEY,OBJECTID int(20),ISO_CODE varchar(800),COUNTRY_NAME varchar(800),Date_epicrv varchar(800),NewCase int(20),TotalCase int(20),NewDeath int(20),TotalDeath int(20))\")\n",
    "\n",
    "cursor.execute(\"CREATE TABLE Afghanistan (id INT AUTO_INCREMENT PRIMARY KEY,OBJECTID int(20),ISO_CODE varchar(800),COUNTRY_NAME varchar(800),Date_epicrv varchar(800),NewCase int(20),TotalCase int(20),NewDeath int(20),TotalDeath int(20)) SELECT * FROM covid19_results WHERE COUNTRY_NAME = 'Afghanistan' \")\n",
    "\n",
    "cursor.execute(\"CREATE TABLE Brazil (id INT AUTO_INCREMENT PRIMARY KEY,OBJECTID int(20),ISO_CODE varchar(800),COUNTRY_NAME varchar(800),Date_epicrv varchar(800),NewCase int(20),TotalCase int(20),NewDeath int(20),TotalDeath int(20)) SELECT * FROM covid19_results WHERE COUNTRY_NAME = 'Brazil' \")\n",
    "\n",
    "cursor.execute(\"CREATE TABLE Canada (id INT AUTO_INCREMENT PRIMARY KEY,OBJECTID int(20),ISO_CODE varchar(800),COUNTRY_NAME varchar(800),Date_epicrv varchar(800),NewCase int(20),TotalCase int(20),NewDeath int(20),TotalDeath int(20)) SELECT * FROM covid19_results WHERE COUNTRY_NAME = 'Canada' \")"
   ]
  },
  {
   "cell_type": "code",
   "execution_count": null,
   "metadata": {},
   "outputs": [],
   "source": [
    "cursor.execute(\"SHOW TABLES\")\n",
    "\n",
    "for x in cursor:\n",
    "    print(x)"
   ]
  },
  {
   "cell_type": "code",
   "execution_count": null,
   "metadata": {},
   "outputs": [],
   "source": [
    "#Writing the first table into a csv file\n",
    "cursor.execute(\"SELECT * FROM covid19_results WHERE COUNTRY_NAME ='Afghanistan' \")\n",
    "allrows=cursor.fetchall() \n",
    "\n",
    "connection.close() \n",
    "\n",
    "dfA=pd.DataFrame(list(allrows),columns=['id','OBJECTID','ISO_CODE','COUNTRY_NAME','Date_epicrv','NewCase','TotalCase','NewDeath','TotalDeath'])\n",
    "df.tocsv(\"Afghanistan_Covid19_Data.csv\")"
   ]
  },
  {
   "cell_type": "code",
   "execution_count": null,
   "metadata": {},
   "outputs": [],
   "source": [
    "#Writing the second table into a csv file\n",
    "cursor.execute(\"SELECT * FROM covid19_results WHERE COUNTRY_NAME ='Brazil' \")\n",
    "allrows=cursor.fetchall() \n",
    "\n",
    "connection.close() \n",
    "\n",
    "dfA=pd.DataFrame(list(allrows),columns=['id','OBJECTID','ISO_CODE','COUNTRY_NAME','Date_epicrv','NewCase','TotalCase','NewDeath','TotalDeath'])\n",
    "df.tocsv(\"Brazil_Covid19_Data.csv\")"
   ]
  },
  {
   "cell_type": "code",
   "execution_count": null,
   "metadata": {},
   "outputs": [],
   "source": [
    "#Writing the third table into a csv file\n",
    "cursor.execute(\"SELECT * FROM covid19_results WHERE COUNTRY_NAME ='Canada' \")\n",
    "allrows=cursor.fetchall() \n",
    "\n",
    "connection.close() \n",
    "\n",
    "dfA=pd.DataFrame(list(allrows),columns=['id','OBJECTID','ISO_CODE','COUNTRY_NAME','Date_epicrv','NewCase','TotalCase','NewDeath','TotalDeath'])\n",
    "df.tocsv(\"Canada_Covid19_Data.csv\")"
   ]
  },
  {
   "cell_type": "code",
   "execution_count": null,
   "metadata": {},
   "outputs": [],
   "source": [
    "#conversion of data to a data frame\n",
    "df = pd.read_csv('Data_ WHO Coronavirus Covid-19 Cases and Deaths - WHO-COVID-19-global-data.csv', delimiter = ',', nrows = 1000)\n",
    "                   \n",
    "df"
   ]
  },
  {
   "cell_type": "code",
   "execution_count": null,
   "metadata": {},
   "outputs": [],
   "source": [
    "#plotting the overall cases for the each country.\n",
    "fig, graph = plt.subplots(figsize=(15, 8))\n",
    "\n",
    "graph.barh(df['COUNTRY_NAME'], df['TotalCase'])\n",
    "\n",
    "plt.xlabel('Number of Confirmend Cases')\n",
    "plt.ylabel('Country')\n",
    "\n",
    "\n"
   ]
  },
  {
   "cell_type": "code",
   "execution_count": null,
   "metadata": {},
   "outputs": [],
   "source": [
    "#Plotting the data for the country Afghanistan and it's toal deaths over time.\n",
    "df = pd.read_csv('Afghanistan_Covid19_Data.csv', delimiter = ',', nrows = 1000)\n",
    "                   \n",
    "fig, graph1 = plt.subplots(figsize=(15,8))\n",
    "graph1.scatter(df['Date_epicrv'], df['TotalDeath'])\n",
    "graph1.set_title('Deaths according to date in Afghanistan')\n",
    "\n",
    "plt.xticks(df['Date_epicrv'][::12])"
   ]
  },
  {
   "cell_type": "code",
   "execution_count": null,
   "metadata": {},
   "outputs": [],
   "source": []
  },
  {
   "cell_type": "code",
   "execution_count": null,
   "metadata": {},
   "outputs": [],
   "source": []
  }
 ],
 "metadata": {
  "kernelspec": {
   "display_name": "Python 3",
   "language": "python",
   "name": "python3"
  },
  "language_info": {
   "codemirror_mode": {
    "name": "ipython",
    "version": 3
   },
   "file_extension": ".py",
   "mimetype": "text/x-python",
   "name": "python",
   "nbconvert_exporter": "python",
   "pygments_lexer": "ipython3",
   "version": "3.7.6"
  }
 },
 "nbformat": 4,
 "nbformat_minor": 4
}
