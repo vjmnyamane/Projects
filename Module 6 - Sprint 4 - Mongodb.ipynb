{
 "cells": [
  {
   "cell_type": "code",
   "execution_count": null,
   "metadata": {},
   "outputs": [],
   "source": [
    "import pymongo\n",
    "#connection\n",
    "myclient = pymongo.MongoClient(\"mongodb://localhost:27017/\")\n",
    "\n",
    "#creating database in mongodb\n",
    "mydb = myclient[\"DataTracker\"]\n",
    "\n",
    "#creating table in mongodb\n",
    "mycol = mydb[\"StoreItems\"]\n",
    "\n"
   ]
  },
  {
   "cell_type": "code",
   "execution_count": null,
   "metadata": {},
   "outputs": [],
   "source": [
    "#inserting record into the table in mongo\n",
    "mylist =[{ \"_id\":1 , \"Item name\":\"Simba\", \"Item Type\":\"Chips\"},\n",
    "        { \"_id\":2 , \"Item name\":\"Coke\", \"Item Type\":\"Cooldrink\"},\n",
    "        { \"_id\":3 , \"Item name\":\"Cardbury\", \"Item Type\":\"Chocolate\"},\n",
    "        { \"_id\":4 , \"Item name\":\"Pepper steak\", \"Item Type\":\"Pie\"},\n",
    "        { \"_id\":5 , \"Item name\":\"Pear\", \"Item Type\":\"Fruit\"},\n",
    "        { \"_id\":6 , \"Item name\":\"Vanilla\", \"Item Type\":\"Cupcake\"},\n",
    "        { \"_id\":7 , \"Item name\":\"Spinach\", \"Item Type\":\"Vegetable\"},\n",
    "        { \"_id\":8 , \"Item name\":\"Lays\", \"Item Type\":\"Chips\"},\n",
    "        { \"_id\":9 , \"Item name\":\"Fanta\", \"Item Type\":\"Cooldrink\"},\n",
    "        { \"_id\":10 , \"Item name\":\"Simba\", \"Item Type\":\"Chips\"},\n",
    "        { \"_id\":11 , \"Item name\":\"Tex\", \"Item Type\":\"Chococlate\"},\n",
    "        { \"_id\":12 , \"Item name\":\"Chicken\", \"Item Type\":\"Pie\"},\n",
    "        { \"_id\":13 , \"Item name\":\"Apple\", \"Item Type\":\"Fruit\"},\n",
    "        { \"_id\":14 , \"Item name\":\"Chocolate\", \"Item Type\":\"Cupcake\"},\n",
    "        { \"_id\":15 , \"Item name\":\"Cabbage\", \"Item Type\":\"Vegetable\"},\n",
    "        { \"_id\":16 , \"Item name\":\"Doritos\", \"Item Type\":\"Chips\"},\n",
    "        { \"_id\":17 , \"Item name\":\"Pepsi\", \"Item Type\":\"Cooldrink\"},\n",
    "        { \"_id\":18 , \"Item name\":\"Lunchbar\", \"Item Type\":\"Chocolate\"},\n",
    "        { \"_id\":19 , \"Item name\":\"Steak and kidney\", \"Item Type\":\"Pie\"},\n",
    "        { \"_id\":20 , \"Item name\":\"Grapes\", \"Item Type\":\"Fruit\"},\n",
    "        { \"_id\":21 , \"Item name\":\"Chocmint\", \"Item Type\":\"Cupcake\"},\n",
    "        { \"_id\":22 , \"Item name\":\"Carrot\", \"Item Type\":\"Vegetable\"} ]\n",
    "\n",
    "x = mycol.insert_many(mylist)\n",
    "\n"
   ]
  },
  {
   "cell_type": "code",
   "execution_count": null,
   "metadata": {},
   "outputs": [],
   "source": [
    "#creating collection for top three products\n",
    "mycol = mydb[\"FavouriteItems\"]\n",
    "favlist = [{ \"_id\":1 , \"Item name\":\"Simba\", \"Item Type\":\"Chips\"},\n",
    "        { \"_id\":2 , \"Item name\":\"Coke\", \"Item Type\":\"Cooldrink\"},\n",
    "        { \"_id\":3 , \"Item name\":\"Cardbury\", \"Item Type\":\"Chocolate\"}]\n",
    "\n",
    "\n",
    "p = mycol.insert_many(favlist)"
   ]
  },
  {
   "cell_type": "code",
   "execution_count": null,
   "metadata": {},
   "outputs": [],
   "source": [
    "#inserting multiple documents in my collection\n",
    "mycol = mydb[\"FavouriteItemsUpdated\"]\n",
    " \n",
    "mylist = [{ \"_id\":4 , \"Item name\":\"Grapes\", \"Item Type\":\"Fruit\"},\n",
    "        { \"_id\":5 , \"Item name\":\"Chocmint\", \"Item Type\":\"Cupcake\"},\n",
    "        { \"_id\":6 , \"Item name\":\"Carrot\", \"Item Type\":\"Vegetable\"}]\n",
    "x = mycol.insert_many(mylist)"
   ]
  },
  {
   "cell_type": "code",
   "execution_count": null,
   "metadata": {},
   "outputs": [],
   "source": [
    "#Sorting my first collection in descending order\n",
    "\n",
    "mycol =  mydb[\"StoreItems\"]\n",
    "\n",
    "mydoc = mycol.find().sort(\"Item name\",-1)\n",
    "\n",
    "for x in mydoc:\n",
    "     print(x)"
   ]
  },
  {
   "cell_type": "code",
   "execution_count": null,
   "metadata": {},
   "outputs": [],
   "source": [
    "#Sorting my second collection id descending order\n",
    "mycol =  mydb[\"FavouriteItems\"]\n",
    "\n",
    "mydoc = mycol.find().sort(\"Item Type\",-1)\n",
    "\n",
    "for x in mydoc:\n",
    "     print(x)"
   ]
  },
  {
   "cell_type": "code",
   "execution_count": null,
   "metadata": {},
   "outputs": [],
   "source": [
    "#deleting two brands in FavouriteItems collection\n",
    "mycol =  mydb[\"FavouriteItems\"]\n",
    "\n",
    "myquery = {\"Item name\" : {\"$regex\":\"^C\"}}\n",
    "\n",
    "x = mycol.delete_many(myquery)\n",
    "\n",
    "print( \"You have deleted  \",x.deleted_count, \" documents.\")"
   ]
  },
  {
   "cell_type": "code",
   "execution_count": null,
   "metadata": {},
   "outputs": [],
   "source": [
    "#Updating my FavouriteItems collection \n",
    "mycol = mydb[\"FavouriteItems\"]\n",
    "\n",
    "myquery = {\"Item name\": \"Simba\"}\n",
    "\n",
    "newvalues = {\"$set\":{\"Item name\": \"Jelly Babies\"}}\n",
    "\n",
    "mycol.update_one(myquery,newvalues)\n",
    "\n",
    "for x in mycol.find():\n",
    "    print(x)"
   ]
  },
  {
   "cell_type": "code",
   "execution_count": null,
   "metadata": {},
   "outputs": [],
   "source": [
    "#Filtering the main collection to find documents that start with the letter \"P\"\n",
    "mycol = mydb[\"StoreItems\"]\n",
    "\n",
    "myquery = { \"Item name\": { \"$regex\": \"^P\" } }\n",
    "\n",
    "mydoc = mycol.find(myquery)\n",
    "\n",
    "for x in mydoc:\n",
    "    print(x)"
   ]
  },
  {
   "cell_type": "code",
   "execution_count": null,
   "metadata": {},
   "outputs": [],
   "source": [
    "#Filtering my main collection to display all documents from the documents that starts with the \"P\" \n",
    "mycol = mydb[\"StoreItems\"]\n",
    "\n",
    "myquery = {\"Item name\": {\"$gt\" : \"P\"}}\n",
    "\n",
    "mydoc = mycol.find(myquery )\n",
    "\n",
    "for x in mydoc:\n",
    "    print(x)"
   ]
  },
  {
   "cell_type": "code",
   "execution_count": null,
   "metadata": {},
   "outputs": [],
   "source": []
  }
 ],
 "metadata": {
  "kernelspec": {
   "display_name": "Python 3",
   "language": "python",
   "name": "python3"
  },
  "language_info": {
   "codemirror_mode": {
    "name": "ipython",
    "version": 3
   },
   "file_extension": ".py",
   "mimetype": "text/x-python",
   "name": "python",
   "nbconvert_exporter": "python",
   "pygments_lexer": "ipython3",
   "version": "3.7.6"
  }
 },
 "nbformat": 4,
 "nbformat_minor": 4
}
