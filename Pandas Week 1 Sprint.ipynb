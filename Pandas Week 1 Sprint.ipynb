{
 "cells": [
  {
   "cell_type": "code",
   "execution_count": null,
   "metadata": {},
   "outputs": [],
   "source": [
    "# This is how you take any given data and put it into a DataFrame.\n",
    "\n",
    "import pandas as pd\n",
    "import numpy as np\n",
    "\n",
    "\n",
    "index = ['1','2','3']\n",
    "columns=['Chips','Cooldrinks','Chocolates','Pies','Fruit','Cupcakes','Veggies']\n",
    "data = {'Chips':['Simba','Lays',np.NaN],\n",
    "        'Cooldrinks': ['Coke','Fanta',np.NaN],\n",
    "       'Chocolates':['Cadbury','Tex',np.NaN],\n",
    "        'Pies':['Pepper Steak','Chicken',np.NaN],\n",
    "        'Fruit':['Pear','Apple','Oranges'],\n",
    "        'Cupcakes':['Vanilla','Chocolate',np.NaN],\n",
    "        'Veggies':['Spinach','Cabbage',np.NaN]\n",
    "       }\n",
    "\n",
    "df = pd.DataFrame(data=data,index=index, columns=columns )\n",
    "df.head()"
   ]
  }
 ],
 "metadata": {
  "kernelspec": {
   "display_name": "Python 3",
   "language": "python",
   "name": "python3"
  },
  "language_info": {
   "codemirror_mode": {
    "name": "ipython",
    "version": 3
   },
   "file_extension": ".py",
   "mimetype": "text/x-python",
   "name": "python",
   "nbconvert_exporter": "python",
   "pygments_lexer": "ipython3",
   "version": "3.7.6"
  }
 },
 "nbformat": 4,
 "nbformat_minor": 4
}
